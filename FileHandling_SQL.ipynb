{
 "cells": [
  {
   "cell_type": "code",
   "execution_count": 2,
   "id": "7181812c-dc9e-4cb3-a184-6894680dc01a",
   "metadata": {},
   "outputs": [],
   "source": [
    "import pandas as pd\n",
    "import sqlite3"
   ]
  },
  {
   "cell_type": "markdown",
   "id": "b2c33110-2c2f-4730-883c-4dd2f0f752d3",
   "metadata": {},
   "source": [
    "# Create a Pandas DataFrame"
   ]
  },
  {
   "cell_type": "code",
   "execution_count": 3,
   "id": "538d6a1a-3f69-429f-9295-f1c81f6b8eb5",
   "metadata": {},
   "outputs": [
    {
     "name": "stdout",
     "output_type": "stream",
     "text": [
      "             Mercedes  Ford  Tata  Renault\n",
      "Sales place                               \n",
      "One                 2     3     9       12\n",
      "Two                 4     0     3        1\n",
      "Three               0     0     4        0\n",
      "Four                4     1     1        0\n",
      "Five                0     6     0        3\n",
      "Six                 3    12     0        1\n"
     ]
    }
   ],
   "source": [
    "cardata = { \"Mercedes\": [2, 4, 0, 4, 0, 3], \"Ford\": [3, 0, 0, 1, 6, 12], \"Tata\":[9, 3, 4, 1, 0, 0], \"Renault\":[12, 1, 0, 0, 3, 1]}\n",
    "carsales = pd.DataFrame(cardata)\n",
    "carsales.index.rename(\"Sales place\", inplace=True)\n",
    "carsales.rename(index={0: \"One\", 1: \"Two\", 2: \"Three\", 3: \"Four\", 4: \"Five\", 5: \"Six\"}, inplace=True)\n",
    "\n",
    "print(carsales)"
   ]
  },
  {
   "cell_type": "markdown",
   "id": "fd97f384-336c-40b9-bf41-c8c02d813a5e",
   "metadata": {},
   "source": [
    "# Put the DataFrame into a db table"
   ]
  },
  {
   "cell_type": "markdown",
   "id": "06b458e4-414d-4a1f-beaf-3f3f7a2e3046",
   "metadata": {},
   "source": [
    "Use `append` instead of `replace` if needed"
   ]
  },
  {
   "cell_type": "code",
   "execution_count": 4,
   "id": "1c1ce614-3b14-4e2c-8492-34ebe3b9da7f",
   "metadata": {},
   "outputs": [],
   "source": [
    "conn = sqlite3.connect(\"carsales.db\")\n",
    "carsales.to_sql(\"carsales\", conn, if_exists=\"replace\")\n",
    "del carsales"
   ]
  },
  {
   "cell_type": "markdown",
   "id": "1f6e59b1-51e1-47f0-8c06-236967127bce",
   "metadata": {},
   "source": [
    "# Recreate the carsales DataFrame"
   ]
  },
  {
   "cell_type": "markdown",
   "id": "17dd67a9-dfe4-4cc2-8cb4-fedf16470630",
   "metadata": {},
   "source": [
    "Load everything from the *carsales* table"
   ]
  },
  {
   "cell_type": "code",
   "execution_count": 7,
   "id": "2129cde1-7231-4e2a-a78e-59a40db75a59",
   "metadata": {},
   "outputs": [
    {
     "name": "stdout",
     "output_type": "stream",
     "text": [
      "  Sales place  Mercedes  Ford  Tata  Renault\n",
      "0         One         2     3     9       12\n",
      "1         Two         4     0     3        1\n",
      "2       Three         0     0     4        0\n",
      "3        Four         4     1     1        0\n",
      "4        Five         0     6     0        3\n",
      "5         Six         3    12     0        1\n"
     ]
    }
   ],
   "source": [
    "carsales = pd.read_sql_query(\"SELECT * FROM carsales\", conn)\n",
    "print(carsales)"
   ]
  },
  {
   "cell_type": "markdown",
   "id": "d4e7e9a0-7c34-472d-9456-c21006f2bf7c",
   "metadata": {},
   "source": [
    "## Restore indexes to the DataFrame"
   ]
  },
  {
   "cell_type": "code",
   "execution_count": 9,
   "id": "7ef8dfa2-38a7-4302-9f76-6d7e6239e559",
   "metadata": {},
   "outputs": [
    {
     "name": "stdout",
     "output_type": "stream",
     "text": [
      "             Mercedes  Ford  Tata  Renault\n",
      "Sales place                               \n",
      "One                 2     3     9       12\n",
      "Two                 4     0     3        1\n",
      "Three               0     0     4        0\n",
      "Four                4     1     1        0\n",
      "Five                0     6     0        3\n",
      "Six                 3    12     0        1\n"
     ]
    }
   ],
   "source": [
    "carsales = carsales.set_index(\"Sales place\")\n",
    "print(carsales)"
   ]
  },
  {
   "cell_type": "code",
   "execution_count": null,
   "id": "98058776-664b-487d-92b6-562c5edce2df",
   "metadata": {},
   "outputs": [],
   "source": []
  }
 ],
 "metadata": {
  "kernelspec": {
   "display_name": "anaconda-ai-2024.04-py310",
   "language": "python",
   "name": "conda-env-anaconda-ai-2024.04-py310-py"
  },
  "language_info": {
   "codemirror_mode": {
    "name": "ipython",
    "version": 3
   },
   "file_extension": ".py",
   "mimetype": "text/x-python",
   "name": "python",
   "nbconvert_exporter": "python",
   "pygments_lexer": "ipython3",
   "version": "3.10.13"
  }
 },
 "nbformat": 4,
 "nbformat_minor": 5
}
