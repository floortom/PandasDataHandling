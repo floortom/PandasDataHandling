{
 "cells": [
  {
   "cell_type": "code",
   "execution_count": 1,
   "id": "55553e18-98bb-43e4-b444-42b79d2d891f",
   "metadata": {},
   "outputs": [],
   "source": [
    "import pandas as pd"
   ]
  },
  {
   "cell_type": "markdown",
   "id": "a4940a6c-1e0c-4f89-b352-de1a7eb848d8",
   "metadata": {},
   "source": [
    "# Read a CSV file to a Pandas DataFrame"
   ]
  },
  {
   "cell_type": "code",
   "execution_count": 2,
   "id": "254ea079-a402-4586-a29c-69538ab39a13",
   "metadata": {},
   "outputs": [
    {
     "name": "stdout",
     "output_type": "stream",
     "text": [
      "  Unnamed: 0  Tesla  Mercedes  Ford  Tata  Renault  Volvo\n",
      "0        One      2         2     3     9       12      1\n",
      "1        Two      6         4     0     3        1      4\n",
      "2      Three      2         0     0     4        0      0\n",
      "3       Four      3         4     1     1        0      0\n",
      "4       Five      0         0     6     0        3      0\n",
      "5        Six      4         3    12     0        1     11\n",
      "6      Seven      7         3     5     1        1     12\n"
     ]
    }
   ],
   "source": [
    "carsales = pd.read_csv(\"carsales.csv\")\n",
    "print(carsales)"
   ]
  },
  {
   "cell_type": "markdown",
   "id": "4ca1aaca-1003-4a00-b48f-6e353989089f",
   "metadata": {},
   "source": [
    "Here we can see the no-index property of the CSV file. Our Index has been loaded as a Data column.\n",
    "\n",
    "Let's delete the \"carsales\" DataFrame and make a different attempt to load."
   ]
  },
  {
   "cell_type": "code",
   "execution_count": 3,
   "id": "cbcff5d2-a2b0-465a-9a25-537f9b506394",
   "metadata": {},
   "outputs": [],
   "source": [
    "del carsales"
   ]
  },
  {
   "cell_type": "markdown",
   "id": "bcef409d-35e5-4cd2-9b4e-9ed4f130122e",
   "metadata": {},
   "source": [
    "## Read the CSV file to a Pandas DataFrame with index instruction"
   ]
  },
  {
   "cell_type": "markdown",
   "id": "da03d6a4-b4ad-45ef-8db8-c8ebdad9abb7",
   "metadata": {},
   "source": [
    "Instruct the `read_csv()` function to interpret the first column as an *Index-column*.<br>\n",
    "Also rename the *Index* column after loading the DataFrame."
   ]
  },
  {
   "cell_type": "code",
   "execution_count": 5,
   "id": "c3932347-2136-42c5-82c7-b9069d9cca2e",
   "metadata": {},
   "outputs": [
    {
     "name": "stdout",
     "output_type": "stream",
     "text": [
      "             Tesla  Mercedes  Ford  Tata  Renault  Volvo\n",
      "Sales place                                             \n",
      "One              2         2     3     9       12      1\n",
      "Two              6         4     0     3        1      4\n",
      "Three            2         0     0     4        0      0\n",
      "Four             3         4     1     1        0      0\n",
      "Five             0         0     6     0        3      0\n",
      "Six              4         3    12     0        1     11\n",
      "Seven            7         3     5     1        1     12\n"
     ]
    }
   ],
   "source": [
    "carsales = pd.read_csv(\"carsales.csv\", index_col=0)\n",
    "carsales.index.rename(\"Sales place\", inplace=True)\n",
    "print(carsales)"
   ]
  },
  {
   "cell_type": "markdown",
   "id": "1621b289-3608-4df1-8afe-961a2980e987",
   "metadata": {},
   "source": [
    "Pandas' `read_csv()` has a huge number of arguments. The most immediately useful is to use a filepath as filename.<br>\n",
    "Another one is the `sep=\"string delimiter\"` that can be used to use other delimiters than the `,` comma."
   ]
  },
  {
   "cell_type": "code",
   "execution_count": null,
   "id": "788af6ed-b59e-4e67-bc8b-3266be248388",
   "metadata": {},
   "outputs": [],
   "source": []
  }
 ],
 "metadata": {
  "kernelspec": {
   "display_name": "anaconda-ai-2024.04-py310",
   "language": "python",
   "name": "conda-env-anaconda-ai-2024.04-py310-py"
  },
  "language_info": {
   "codemirror_mode": {
    "name": "ipython",
    "version": 3
   },
   "file_extension": ".py",
   "mimetype": "text/x-python",
   "name": "python",
   "nbconvert_exporter": "python",
   "pygments_lexer": "ipython3",
   "version": "3.10.13"
  }
 },
 "nbformat": 4,
 "nbformat_minor": 5
}
