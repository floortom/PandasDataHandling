{
 "cells": [
  {
   "cell_type": "code",
   "execution_count": 29,
   "id": "46614cbf-e275-4fed-994d-7e95cdc8aa0b",
   "metadata": {},
   "outputs": [
    {
     "data": {
      "text/html": [
       "<div>\n",
       "<style scoped>\n",
       "    .dataframe tbody tr th:only-of-type {\n",
       "        vertical-align: middle;\n",
       "    }\n",
       "\n",
       "    .dataframe tbody tr th {\n",
       "        vertical-align: top;\n",
       "    }\n",
       "\n",
       "    .dataframe thead th {\n",
       "        text-align: right;\n",
       "    }\n",
       "</style>\n",
       "<table border=\"1\" class=\"dataframe\">\n",
       "  <thead>\n",
       "    <tr style=\"text-align: right;\">\n",
       "      <th></th>\n",
       "      <th>Mercedes</th>\n",
       "      <th>Ford</th>\n",
       "      <th>Tata</th>\n",
       "      <th>Renault</th>\n",
       "    </tr>\n",
       "    <tr>\n",
       "      <th>Sales place</th>\n",
       "      <th></th>\n",
       "      <th></th>\n",
       "      <th></th>\n",
       "      <th></th>\n",
       "    </tr>\n",
       "  </thead>\n",
       "  <tbody>\n",
       "    <tr>\n",
       "      <th>One</th>\n",
       "      <td>2</td>\n",
       "      <td>3</td>\n",
       "      <td>9</td>\n",
       "      <td>12</td>\n",
       "    </tr>\n",
       "    <tr>\n",
       "      <th>Two</th>\n",
       "      <td>4</td>\n",
       "      <td>0</td>\n",
       "      <td>3</td>\n",
       "      <td>1</td>\n",
       "    </tr>\n",
       "    <tr>\n",
       "      <th>Three</th>\n",
       "      <td>0</td>\n",
       "      <td>0</td>\n",
       "      <td>4</td>\n",
       "      <td>0</td>\n",
       "    </tr>\n",
       "    <tr>\n",
       "      <th>Four</th>\n",
       "      <td>4</td>\n",
       "      <td>1</td>\n",
       "      <td>1</td>\n",
       "      <td>0</td>\n",
       "    </tr>\n",
       "    <tr>\n",
       "      <th>Five</th>\n",
       "      <td>0</td>\n",
       "      <td>6</td>\n",
       "      <td>0</td>\n",
       "      <td>3</td>\n",
       "    </tr>\n",
       "    <tr>\n",
       "      <th>Six</th>\n",
       "      <td>3</td>\n",
       "      <td>12</td>\n",
       "      <td>0</td>\n",
       "      <td>1</td>\n",
       "    </tr>\n",
       "  </tbody>\n",
       "</table>\n",
       "</div>"
      ],
      "text/plain": [
       "             Mercedes  Ford  Tata  Renault\n",
       "Sales place                               \n",
       "One                 2     3     9       12\n",
       "Two                 4     0     3        1\n",
       "Three               0     0     4        0\n",
       "Four                4     1     1        0\n",
       "Five                0     6     0        3\n",
       "Six                 3    12     0        1"
      ]
     },
     "execution_count": 29,
     "metadata": {},
     "output_type": "execute_result"
    }
   ],
   "source": [
    "import pandas as pd\n",
    "\n",
    "cardata = { \"Mercedes\": [2, 4, 0, 4, 0, 3], \"Ford\": [3, 0, 0, 1, 6, 12], \"Tata\":[9, 3, 4, 1, 0, 0], \"Renault\":[12, 1, 0, 0, 3, 1]}\n",
    "carsales = pd.DataFrame(cardata)\n",
    "carsales.index.rename(\"Sales place\", inplace=True)\n",
    "carsales.rename(index={0: \"One\", 1: \"Two\", 2: \"Three\", 3: \"Four\", 4: \"Five\", 5: \"Six\"}, inplace=True)\n",
    "\n",
    "carsales"
   ]
  },
  {
   "cell_type": "markdown",
   "id": "dbab89ec-08ab-4570-b699-6f385750ee3c",
   "metadata": {},
   "source": [
    "# `.loc` function"
   ]
  },
  {
   "cell_type": "markdown",
   "id": "c192ba31-8187-4147-8051-5d426773f116",
   "metadata": {},
   "source": [
    "- Select all salespaces where at least one Mercedes has been sold"
   ]
  },
  {
   "cell_type": "code",
   "execution_count": 28,
   "id": "a3f96e6e-6769-4f23-9c2b-b7c10554d141",
   "metadata": {},
   "outputs": [
    {
     "data": {
      "text/plain": [
       "Sales place\n",
       "One       True\n",
       "Two       True\n",
       "Three    False\n",
       "Four      True\n",
       "Five     False\n",
       "Six       True\n",
       "Name: Mercedes, dtype: bool"
      ]
     },
     "execution_count": 28,
     "metadata": {},
     "output_type": "execute_result"
    }
   ],
   "source": [
    "carsales.Mercedes > 0"
   ]
  },
  {
   "cell_type": "code",
   "execution_count": 27,
   "id": "c6cf8c4f-466a-4f96-a586-ab9ce6fad047",
   "metadata": {},
   "outputs": [
    {
     "data": {
      "text/html": [
       "<div>\n",
       "<style scoped>\n",
       "    .dataframe tbody tr th:only-of-type {\n",
       "        vertical-align: middle;\n",
       "    }\n",
       "\n",
       "    .dataframe tbody tr th {\n",
       "        vertical-align: top;\n",
       "    }\n",
       "\n",
       "    .dataframe thead th {\n",
       "        text-align: right;\n",
       "    }\n",
       "</style>\n",
       "<table border=\"1\" class=\"dataframe\">\n",
       "  <thead>\n",
       "    <tr style=\"text-align: right;\">\n",
       "      <th></th>\n",
       "      <th>Mercedes</th>\n",
       "      <th>Ford</th>\n",
       "      <th>Tata</th>\n",
       "      <th>Renault</th>\n",
       "    </tr>\n",
       "    <tr>\n",
       "      <th>Sales place</th>\n",
       "      <th></th>\n",
       "      <th></th>\n",
       "      <th></th>\n",
       "      <th></th>\n",
       "    </tr>\n",
       "  </thead>\n",
       "  <tbody>\n",
       "    <tr>\n",
       "      <th>One</th>\n",
       "      <td>2</td>\n",
       "      <td>3</td>\n",
       "      <td>9</td>\n",
       "      <td>12</td>\n",
       "    </tr>\n",
       "    <tr>\n",
       "      <th>Two</th>\n",
       "      <td>4</td>\n",
       "      <td>0</td>\n",
       "      <td>3</td>\n",
       "      <td>1</td>\n",
       "    </tr>\n",
       "    <tr>\n",
       "      <th>Four</th>\n",
       "      <td>4</td>\n",
       "      <td>1</td>\n",
       "      <td>1</td>\n",
       "      <td>0</td>\n",
       "    </tr>\n",
       "    <tr>\n",
       "      <th>Six</th>\n",
       "      <td>3</td>\n",
       "      <td>12</td>\n",
       "      <td>0</td>\n",
       "      <td>1</td>\n",
       "    </tr>\n",
       "  </tbody>\n",
       "</table>\n",
       "</div>"
      ],
      "text/plain": [
       "             Mercedes  Ford  Tata  Renault\n",
       "Sales place                               \n",
       "One                 2     3     9       12\n",
       "Two                 4     0     3        1\n",
       "Four                4     1     1        0\n",
       "Six                 3    12     0        1"
      ]
     },
     "execution_count": 27,
     "metadata": {},
     "output_type": "execute_result"
    }
   ],
   "source": [
    "carsales.loc[carsales.Mercedes > 0]"
   ]
  },
  {
   "cell_type": "markdown",
   "id": "c7894480-34df-4a86-ae4f-bf7c8bd2a548",
   "metadata": {},
   "source": [
    "- Select all salespaces with at least one Mercedes and one Ford sold"
   ]
  },
  {
   "cell_type": "code",
   "execution_count": 26,
   "id": "442378d5-ee73-4dcb-a6bf-cabcf263c20f",
   "metadata": {},
   "outputs": [
    {
     "data": {
      "text/html": [
       "<div>\n",
       "<style scoped>\n",
       "    .dataframe tbody tr th:only-of-type {\n",
       "        vertical-align: middle;\n",
       "    }\n",
       "\n",
       "    .dataframe tbody tr th {\n",
       "        vertical-align: top;\n",
       "    }\n",
       "\n",
       "    .dataframe thead th {\n",
       "        text-align: right;\n",
       "    }\n",
       "</style>\n",
       "<table border=\"1\" class=\"dataframe\">\n",
       "  <thead>\n",
       "    <tr style=\"text-align: right;\">\n",
       "      <th></th>\n",
       "      <th>Mercedes</th>\n",
       "      <th>Ford</th>\n",
       "      <th>Tata</th>\n",
       "      <th>Renault</th>\n",
       "    </tr>\n",
       "    <tr>\n",
       "      <th>Sales place</th>\n",
       "      <th></th>\n",
       "      <th></th>\n",
       "      <th></th>\n",
       "      <th></th>\n",
       "    </tr>\n",
       "  </thead>\n",
       "  <tbody>\n",
       "    <tr>\n",
       "      <th>One</th>\n",
       "      <td>2</td>\n",
       "      <td>3</td>\n",
       "      <td>9</td>\n",
       "      <td>12</td>\n",
       "    </tr>\n",
       "    <tr>\n",
       "      <th>Four</th>\n",
       "      <td>4</td>\n",
       "      <td>1</td>\n",
       "      <td>1</td>\n",
       "      <td>0</td>\n",
       "    </tr>\n",
       "    <tr>\n",
       "      <th>Six</th>\n",
       "      <td>3</td>\n",
       "      <td>12</td>\n",
       "      <td>0</td>\n",
       "      <td>1</td>\n",
       "    </tr>\n",
       "  </tbody>\n",
       "</table>\n",
       "</div>"
      ],
      "text/plain": [
       "             Mercedes  Ford  Tata  Renault\n",
       "Sales place                               \n",
       "One                 2     3     9       12\n",
       "Four                4     1     1        0\n",
       "Six                 3    12     0        1"
      ]
     },
     "execution_count": 26,
     "metadata": {},
     "output_type": "execute_result"
    }
   ],
   "source": [
    "carsales.loc[(carsales.Mercedes > 0) & (carsales.Ford > 0)]"
   ]
  },
  {
   "cell_type": "markdown",
   "id": "28697ebf-e6f4-4b95-a95d-81cebd56fe94",
   "metadata": {},
   "source": [
    "- Select rows conditional on the content of a list"
   ]
  },
  {
   "cell_type": "code",
   "execution_count": 25,
   "id": "49bbbb99-7673-40fa-8a35-d328cca328da",
   "metadata": {},
   "outputs": [
    {
     "data": {
      "text/html": [
       "<div>\n",
       "<style scoped>\n",
       "    .dataframe tbody tr th:only-of-type {\n",
       "        vertical-align: middle;\n",
       "    }\n",
       "\n",
       "    .dataframe tbody tr th {\n",
       "        vertical-align: top;\n",
       "    }\n",
       "\n",
       "    .dataframe thead th {\n",
       "        text-align: right;\n",
       "    }\n",
       "</style>\n",
       "<table border=\"1\" class=\"dataframe\">\n",
       "  <thead>\n",
       "    <tr style=\"text-align: right;\">\n",
       "      <th></th>\n",
       "      <th>Mercedes</th>\n",
       "      <th>Ford</th>\n",
       "      <th>Tata</th>\n",
       "      <th>Renault</th>\n",
       "    </tr>\n",
       "    <tr>\n",
       "      <th>Sales place</th>\n",
       "      <th></th>\n",
       "      <th></th>\n",
       "      <th></th>\n",
       "      <th></th>\n",
       "    </tr>\n",
       "  </thead>\n",
       "  <tbody>\n",
       "    <tr>\n",
       "      <th>Two</th>\n",
       "      <td>4</td>\n",
       "      <td>0</td>\n",
       "      <td>3</td>\n",
       "      <td>1</td>\n",
       "    </tr>\n",
       "    <tr>\n",
       "      <th>Three</th>\n",
       "      <td>0</td>\n",
       "      <td>0</td>\n",
       "      <td>4</td>\n",
       "      <td>0</td>\n",
       "    </tr>\n",
       "  </tbody>\n",
       "</table>\n",
       "</div>"
      ],
      "text/plain": [
       "             Mercedes  Ford  Tata  Renault\n",
       "Sales place                               \n",
       "Two                 4     0     3        1\n",
       "Three               0     0     4        0"
      ]
     },
     "execution_count": 25,
     "metadata": {},
     "output_type": "execute_result"
    }
   ],
   "source": [
    "salesPlaces = [\"Two\", \"Three\"]\n",
    "selected = carsales.index.isin(salesPlaces)\n",
    "carsales.loc[selected]"
   ]
  },
  {
   "cell_type": "markdown",
   "id": "cc846146-9d8f-4a4a-b339-d13b7bed19d0",
   "metadata": {},
   "source": [
    "- Select conditional on strings"
   ]
  },
  {
   "cell_type": "code",
   "execution_count": 24,
   "id": "9bbebee7-5fbc-4a40-b85c-90bf542d0ac9",
   "metadata": {},
   "outputs": [
    {
     "data": {
      "text/html": [
       "<div>\n",
       "<style scoped>\n",
       "    .dataframe tbody tr th:only-of-type {\n",
       "        vertical-align: middle;\n",
       "    }\n",
       "\n",
       "    .dataframe tbody tr th {\n",
       "        vertical-align: top;\n",
       "    }\n",
       "\n",
       "    .dataframe thead th {\n",
       "        text-align: right;\n",
       "    }\n",
       "</style>\n",
       "<table border=\"1\" class=\"dataframe\">\n",
       "  <thead>\n",
       "    <tr style=\"text-align: right;\">\n",
       "      <th></th>\n",
       "      <th>Mercedes</th>\n",
       "      <th>Ford</th>\n",
       "      <th>Tata</th>\n",
       "      <th>Renault</th>\n",
       "    </tr>\n",
       "    <tr>\n",
       "      <th>Sales place</th>\n",
       "      <th></th>\n",
       "      <th></th>\n",
       "      <th></th>\n",
       "      <th></th>\n",
       "    </tr>\n",
       "  </thead>\n",
       "  <tbody>\n",
       "    <tr>\n",
       "      <th>Five</th>\n",
       "      <td>0</td>\n",
       "      <td>6</td>\n",
       "      <td>0</td>\n",
       "      <td>3</td>\n",
       "    </tr>\n",
       "  </tbody>\n",
       "</table>\n",
       "</div>"
      ],
      "text/plain": [
       "             Mercedes  Ford  Tata  Renault\n",
       "Sales place                               \n",
       "Five                0     6     0        3"
      ]
     },
     "execution_count": 24,
     "metadata": {},
     "output_type": "execute_result"
    }
   ],
   "source": [
    "fives = carsales.index.str.contains(\"Five\")\n",
    "carsales.loc[fives]"
   ]
  },
  {
   "cell_type": "markdown",
   "id": "bf9f24aa-ec61-4ba6-ae61-897d09b52bf5",
   "metadata": {},
   "source": [
    "- Make selection between values"
   ]
  },
  {
   "cell_type": "code",
   "execution_count": 22,
   "id": "6aa6f04f-87be-4c02-ba45-953421e32fd7",
   "metadata": {},
   "outputs": [
    {
     "name": "stdout",
     "output_type": "stream",
     "text": [
      "Sales place\n",
      "One       True\n",
      "Two      False\n",
      "Three    False\n",
      "Four     False\n",
      "Five      True\n",
      "Six       True\n",
      "Name: Ford, dtype: bool\n"
     ]
    }
   ],
   "source": [
    "print(carsales[\"Ford\"].between(2, 20))"
   ]
  },
  {
   "cell_type": "code",
   "execution_count": 23,
   "id": "cbd3b6f0-e09b-41a9-b414-e8e241912383",
   "metadata": {},
   "outputs": [
    {
     "data": {
      "text/html": [
       "<div>\n",
       "<style scoped>\n",
       "    .dataframe tbody tr th:only-of-type {\n",
       "        vertical-align: middle;\n",
       "    }\n",
       "\n",
       "    .dataframe tbody tr th {\n",
       "        vertical-align: top;\n",
       "    }\n",
       "\n",
       "    .dataframe thead th {\n",
       "        text-align: right;\n",
       "    }\n",
       "</style>\n",
       "<table border=\"1\" class=\"dataframe\">\n",
       "  <thead>\n",
       "    <tr style=\"text-align: right;\">\n",
       "      <th></th>\n",
       "      <th>Mercedes</th>\n",
       "      <th>Ford</th>\n",
       "      <th>Tata</th>\n",
       "      <th>Renault</th>\n",
       "    </tr>\n",
       "    <tr>\n",
       "      <th>Sales place</th>\n",
       "      <th></th>\n",
       "      <th></th>\n",
       "      <th></th>\n",
       "      <th></th>\n",
       "    </tr>\n",
       "  </thead>\n",
       "  <tbody>\n",
       "    <tr>\n",
       "      <th>One</th>\n",
       "      <td>2</td>\n",
       "      <td>3</td>\n",
       "      <td>9</td>\n",
       "      <td>12</td>\n",
       "    </tr>\n",
       "    <tr>\n",
       "      <th>Five</th>\n",
       "      <td>0</td>\n",
       "      <td>6</td>\n",
       "      <td>0</td>\n",
       "      <td>3</td>\n",
       "    </tr>\n",
       "    <tr>\n",
       "      <th>Six</th>\n",
       "      <td>3</td>\n",
       "      <td>12</td>\n",
       "      <td>0</td>\n",
       "      <td>1</td>\n",
       "    </tr>\n",
       "  </tbody>\n",
       "</table>\n",
       "</div>"
      ],
      "text/plain": [
       "             Mercedes  Ford  Tata  Renault\n",
       "Sales place                               \n",
       "One                 2     3     9       12\n",
       "Five                0     6     0        3\n",
       "Six                 3    12     0        1"
      ]
     },
     "execution_count": 23,
     "metadata": {},
     "output_type": "execute_result"
    }
   ],
   "source": [
    "carsales.loc[carsales[\"Ford\"].between(2, 20)]"
   ]
  },
  {
   "cell_type": "markdown",
   "id": "b31ac235-acc5-45ef-a5c9-9abd614d3eba",
   "metadata": {},
   "source": [
    "# `.iloc` function"
   ]
  },
  {
   "cell_type": "markdown",
   "id": "c738e14d-b4f6-4ee0-a603-584fb7712892",
   "metadata": {},
   "source": [
    "- Select all salespaces where at least one Mercedes has been sold"
   ]
  },
  {
   "cell_type": "code",
   "execution_count": 30,
   "id": "4f79dcb4-9748-4e16-8d0f-fd6ad4069a6d",
   "metadata": {},
   "outputs": [
    {
     "data": {
      "text/plain": [
       "[True, True, False, True, False, True]"
      ]
     },
     "execution_count": 30,
     "metadata": {},
     "output_type": "execute_result"
    }
   ],
   "source": [
    "list(carsales.Mercedes > 0)"
   ]
  },
  {
   "cell_type": "code",
   "execution_count": 31,
   "id": "290bab22-8b92-4ef2-983e-75d7794adf95",
   "metadata": {},
   "outputs": [
    {
     "data": {
      "text/html": [
       "<div>\n",
       "<style scoped>\n",
       "    .dataframe tbody tr th:only-of-type {\n",
       "        vertical-align: middle;\n",
       "    }\n",
       "\n",
       "    .dataframe tbody tr th {\n",
       "        vertical-align: top;\n",
       "    }\n",
       "\n",
       "    .dataframe thead th {\n",
       "        text-align: right;\n",
       "    }\n",
       "</style>\n",
       "<table border=\"1\" class=\"dataframe\">\n",
       "  <thead>\n",
       "    <tr style=\"text-align: right;\">\n",
       "      <th></th>\n",
       "      <th>Mercedes</th>\n",
       "      <th>Ford</th>\n",
       "      <th>Tata</th>\n",
       "      <th>Renault</th>\n",
       "    </tr>\n",
       "    <tr>\n",
       "      <th>Sales place</th>\n",
       "      <th></th>\n",
       "      <th></th>\n",
       "      <th></th>\n",
       "      <th></th>\n",
       "    </tr>\n",
       "  </thead>\n",
       "  <tbody>\n",
       "    <tr>\n",
       "      <th>One</th>\n",
       "      <td>2</td>\n",
       "      <td>3</td>\n",
       "      <td>9</td>\n",
       "      <td>12</td>\n",
       "    </tr>\n",
       "    <tr>\n",
       "      <th>Two</th>\n",
       "      <td>4</td>\n",
       "      <td>0</td>\n",
       "      <td>3</td>\n",
       "      <td>1</td>\n",
       "    </tr>\n",
       "    <tr>\n",
       "      <th>Four</th>\n",
       "      <td>4</td>\n",
       "      <td>1</td>\n",
       "      <td>1</td>\n",
       "      <td>0</td>\n",
       "    </tr>\n",
       "    <tr>\n",
       "      <th>Six</th>\n",
       "      <td>3</td>\n",
       "      <td>12</td>\n",
       "      <td>0</td>\n",
       "      <td>1</td>\n",
       "    </tr>\n",
       "  </tbody>\n",
       "</table>\n",
       "</div>"
      ],
      "text/plain": [
       "             Mercedes  Ford  Tata  Renault\n",
       "Sales place                               \n",
       "One                 2     3     9       12\n",
       "Two                 4     0     3        1\n",
       "Four                4     1     1        0\n",
       "Six                 3    12     0        1"
      ]
     },
     "execution_count": 31,
     "metadata": {},
     "output_type": "execute_result"
    }
   ],
   "source": [
    "mercList = list(carsales.Mercedes > 0)\n",
    "carsales.iloc[mercList]"
   ]
  },
  {
   "cell_type": "code",
   "execution_count": 32,
   "id": "ec8f1648-a486-47ba-84e2-0e47ce85c4af",
   "metadata": {},
   "outputs": [
    {
     "data": {
      "text/html": [
       "<div>\n",
       "<style scoped>\n",
       "    .dataframe tbody tr th:only-of-type {\n",
       "        vertical-align: middle;\n",
       "    }\n",
       "\n",
       "    .dataframe tbody tr th {\n",
       "        vertical-align: top;\n",
       "    }\n",
       "\n",
       "    .dataframe thead th {\n",
       "        text-align: right;\n",
       "    }\n",
       "</style>\n",
       "<table border=\"1\" class=\"dataframe\">\n",
       "  <thead>\n",
       "    <tr style=\"text-align: right;\">\n",
       "      <th></th>\n",
       "      <th>Mercedes</th>\n",
       "      <th>Ford</th>\n",
       "      <th>Tata</th>\n",
       "      <th>Renault</th>\n",
       "    </tr>\n",
       "    <tr>\n",
       "      <th>Sales place</th>\n",
       "      <th></th>\n",
       "      <th></th>\n",
       "      <th></th>\n",
       "      <th></th>\n",
       "    </tr>\n",
       "  </thead>\n",
       "  <tbody>\n",
       "    <tr>\n",
       "      <th>One</th>\n",
       "      <td>2</td>\n",
       "      <td>3</td>\n",
       "      <td>9</td>\n",
       "      <td>12</td>\n",
       "    </tr>\n",
       "    <tr>\n",
       "      <th>Four</th>\n",
       "      <td>4</td>\n",
       "      <td>1</td>\n",
       "      <td>1</td>\n",
       "      <td>0</td>\n",
       "    </tr>\n",
       "    <tr>\n",
       "      <th>Six</th>\n",
       "      <td>3</td>\n",
       "      <td>12</td>\n",
       "      <td>0</td>\n",
       "      <td>1</td>\n",
       "    </tr>\n",
       "  </tbody>\n",
       "</table>\n",
       "</div>"
      ],
      "text/plain": [
       "             Mercedes  Ford  Tata  Renault\n",
       "Sales place                               \n",
       "One                 2     3     9       12\n",
       "Four                4     1     1        0\n",
       "Six                 3    12     0        1"
      ]
     },
     "execution_count": 32,
     "metadata": {},
     "output_type": "execute_result"
    }
   ],
   "source": [
    "carsales.iloc[list((carsales.Mercedes > 0) & (carsales.Ford > 0))]"
   ]
  },
  {
   "cell_type": "code",
   "execution_count": null,
   "id": "2b3fcb2e-cae0-4b08-9c83-6b8895205e8e",
   "metadata": {},
   "outputs": [],
   "source": []
  }
 ],
 "metadata": {
  "kernelspec": {
   "display_name": "anaconda-ai-2024.04-py310",
   "language": "python",
   "name": "conda-env-anaconda-ai-2024.04-py310-py"
  },
  "language_info": {
   "codemirror_mode": {
    "name": "ipython",
    "version": 3
   },
   "file_extension": ".py",
   "mimetype": "text/x-python",
   "name": "python",
   "nbconvert_exporter": "python",
   "pygments_lexer": "ipython3",
   "version": "3.10.13"
  }
 },
 "nbformat": 4,
 "nbformat_minor": 5
}
