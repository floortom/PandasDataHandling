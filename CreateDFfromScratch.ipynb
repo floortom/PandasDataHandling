{
 "cells": [
  {
   "cell_type": "code",
   "execution_count": 1,
   "id": "383fda74-b43d-4018-8e89-c7990774d1ac",
   "metadata": {
    "editable": true,
    "slideshow": {
     "slide_type": ""
    },
    "tags": []
   },
   "outputs": [
    {
     "name": "stdout",
     "output_type": "stream",
     "text": [
      "   Mercedes  Ford  Tata  Renault\n",
      "0         2     3     9       12\n",
      "1         4     0     3        1\n",
      "2         0     0     4        0\n",
      "3         4     1     1        0\n",
      "4         0     6     0        3\n",
      "5         3    12     0        1\n"
     ]
    }
   ],
   "source": [
    "import pandas as pd\n",
    "\n",
    "carData = {\"Mercedes\": [2, 4, 0, 4, 0, 3],\n",
    "           \"Ford\": [3, 0, 0, 1, 6, 12],\n",
    "           \"Tata\": [9, 3, 4, 1, 0, 0],\n",
    "           \"Renault\": [12, 1, 0, 0, 3, 1],\n",
    "          }\n",
    "\n",
    "carsales = pd.DataFrame(carData)\n",
    "\n",
    "print(carsales)"
   ]
  },
  {
   "cell_type": "markdown",
   "id": "c4a54a7c-29f8-4ae0-9d90-c3bb1b809c67",
   "metadata": {},
   "source": [
    "### Edit the index of the existing dataframe"
   ]
  },
  {
   "cell_type": "code",
   "execution_count": 2,
   "id": "7d579e8e-33c6-49db-be5e-22224c356d9c",
   "metadata": {
    "editable": true,
    "slideshow": {
     "slide_type": ""
    },
    "tags": []
   },
   "outputs": [
    {
     "name": "stdout",
     "output_type": "stream",
     "text": [
      "             Mercedes  Ford  Tata  Renault\n",
      "Sales place                               \n",
      "0                   2     3     9       12\n",
      "1                   4     0     3        1\n",
      "2                   0     0     4        0\n",
      "3                   4     1     1        0\n",
      "4                   0     6     0        3\n",
      "5                   3    12     0        1\n"
     ]
    }
   ],
   "source": [
    "carsales.index.rename(\"Sales place\", inplace=True)\n",
    "print(carsales)"
   ]
  },
  {
   "cell_type": "markdown",
   "id": "57ec26b3-f846-43ed-ad01-2b1d64bcc765",
   "metadata": {},
   "source": [
    "### Rename the index labels using a dictionary"
   ]
  },
  {
   "cell_type": "code",
   "execution_count": 3,
   "id": "800acf83-0888-43f9-9948-818c8d5942fc",
   "metadata": {
    "editable": true,
    "slideshow": {
     "slide_type": ""
    },
    "tags": []
   },
   "outputs": [
    {
     "name": "stdout",
     "output_type": "stream",
     "text": [
      "             Mercedes  Ford  Tata  Renault\n",
      "Sales place                               \n",
      "One                 2     3     9       12\n",
      "Two                 4     0     3        1\n",
      "Three               0     0     4        0\n",
      "Four                4     1     1        0\n",
      "Five                0     6     0        3\n",
      "Six                 3    12     0        1\n"
     ]
    }
   ],
   "source": [
    "# Rename the index labels using a dictionary\n",
    "carsales.rename(index={0: \"One\",\n",
    "                       1: \"Two\",\n",
    "                       2: \"Three\",\n",
    "                       3: \"Four\",\n",
    "                       4: \"Five\",\n",
    "                       5: \"Six\",}, inplace=True)\n",
    "print(carsales)"
   ]
  },
  {
   "cell_type": "markdown",
   "id": "5a1ed59a-ed6e-4dcc-8c70-a4811a3bf8ee",
   "metadata": {
    "editable": true,
    "slideshow": {
     "slide_type": ""
    },
    "tags": []
   },
   "source": [
    "\n",
    "setting the index labels to names is normally best done lately\n",
    "in the report stage of any data analysis,\n",
    "data sorting may interfere with the visual aspect of the naming convention\n",
    "related to the order of the data in this dataframe, used in this example,\n",
    "and renaming of key variables which are necessary to identify a data observation, \n",
    "is not advised - use a new column, or make the naming changes as a graphical last stage edit.\n",
    "\n"
   ]
  },
  {
   "cell_type": "markdown",
   "id": "075c781a-71da-406b-8b5f-297e2a7c707b",
   "metadata": {
    "editable": true,
    "slideshow": {
     "slide_type": ""
    },
    "tags": []
   },
   "source": [
    "#### The index and index labels are useful for data selection:"
   ]
  },
  {
   "cell_type": "code",
   "execution_count": 4,
   "id": "e9c68ac5-8f8a-4e5e-9b81-68b0ef81a96c",
   "metadata": {},
   "outputs": [
    {
     "name": "stdout",
     "output_type": "stream",
     "text": [
      "Mercedes    4\n",
      "Ford        0\n",
      "Tata        3\n",
      "Renault     1\n",
      "Name: Two, dtype: int64\n"
     ]
    }
   ],
   "source": [
    "print(carsales.loc[\"Two\"])"
   ]
  },
  {
   "cell_type": "markdown",
   "id": "349e461e-2686-4291-aeff-7edbaadd6391",
   "metadata": {},
   "source": [
    "### Add a new row to the DataFrame"
   ]
  },
  {
   "cell_type": "code",
   "execution_count": 5,
   "id": "47f6476e-5af7-49cc-9466-2d69a078a115",
   "metadata": {},
   "outputs": [
    {
     "name": "stdout",
     "output_type": "stream",
     "text": [
      "       Mercedes  Ford  Tata  Renault\n",
      "One           2     3     9       12\n",
      "Two           4     0     3        1\n",
      "Three         0     0     4        0\n",
      "Four          4     1     1        0\n",
      "Five          0     6     0        3\n",
      "Six           3    12     0        1\n",
      "Seven         3     5     1        1\n"
     ]
    }
   ],
   "source": [
    "newSalesPlace = pd.DataFrame({\"Mercedes\": 3,\n",
    "                              \"Ford\": 5,\n",
    "                              \"Tata\": 1,\n",
    "                              \"Renault\": 1,},\n",
    "                             index=[\"Seven\"])\n",
    "carsales = pd.concat([carsales, newSalesPlace])\n",
    "print(carsales)"
   ]
  },
  {
   "cell_type": "markdown",
   "id": "988cd0fc-3f67-419b-a471-e129c5980bfb",
   "metadata": {},
   "source": [
    "### Add new columns to the DataFrame"
   ]
  },
  {
   "cell_type": "code",
   "execution_count": 6,
   "id": "b8a9c401-a5c9-4cab-a16e-878d70ab502d",
   "metadata": {},
   "outputs": [
    {
     "name": "stdout",
     "output_type": "stream",
     "text": [
      "       Mercedes  Ford  Tata  Renault  Volvo\n",
      "One           2     3     9       12      1\n",
      "Two           4     0     3        1      4\n",
      "Three         0     0     4        0      0\n",
      "Four          4     1     1        0      0\n",
      "Five          0     6     0        3      0\n",
      "Six           3    12     0        1     11\n",
      "Seven         3     5     1        1     12\n"
     ]
    }
   ],
   "source": [
    "volvo = [1, 4, 0, 0, 0, 11, 12]\n",
    "tesla = [2, 6, 2, 3, 0, 4, 7]\n",
    "carsales[\"Volvo\"] = volvo\n",
    "print(carsales)"
   ]
  },
  {
   "cell_type": "markdown",
   "id": "4d2fad45-7540-4a51-b2ce-6e28a37a9ed8",
   "metadata": {},
   "source": [
    "### Insert and name a column at a defined position in the DataFrame"
   ]
  },
  {
   "cell_type": "code",
   "execution_count": 7,
   "id": "02e03e3a-fd54-4bc6-bc16-457f33bcd61b",
   "metadata": {},
   "outputs": [
    {
     "name": "stdout",
     "output_type": "stream",
     "text": [
      "       Tesla  Mercedes  Ford  Tata  Renault  Volvo\n",
      "One        2         2     3     9       12      1\n",
      "Two        6         4     0     3        1      4\n",
      "Three      2         0     0     4        0      0\n",
      "Four       3         4     1     1        0      0\n",
      "Five       0         0     6     0        3      0\n",
      "Six        4         3    12     0        1     11\n",
      "Seven      7         3     5     1        1     12\n"
     ]
    }
   ],
   "source": [
    "carsales.insert(loc=0, column=\"Tesla\", value=tesla)\n",
    "print(carsales)"
   ]
  },
  {
   "cell_type": "markdown",
   "id": "e15349df-4d66-4ba6-a306-d394be84eb95",
   "metadata": {},
   "source": [
    "### Create a DataFrame from Python list\n",
    "Reuse Volvo and Tesla, Add Ford."
   ]
  },
  {
   "cell_type": "code",
   "execution_count": 9,
   "id": "e895e754-f2a5-4677-a390-d7d72cc65a32",
   "metadata": {},
   "outputs": [
    {
     "name": "stdout",
     "output_type": "stream",
     "text": [
      "[[1, 4, 0, 0, 0, 11, 12], [2, 6, 2, 3, 0, 4, 7], [3, 0, 0, 1, 6, 12, 5]]\n"
     ]
    }
   ],
   "source": [
    "ford = [3, 0, 0, 1, 6, 12, 5]\n",
    "data = [volvo, tesla, ford]\n",
    "print(data)"
   ]
  },
  {
   "cell_type": "markdown",
   "id": "d65ce905-b7c5-4c98-b5b2-220b32e3165f",
   "metadata": {},
   "source": [
    "#### Create the DataFrame"
   ]
  },
  {
   "cell_type": "code",
   "execution_count": 10,
   "id": "e0b78dd9-38e3-477f-8583-90670de12858",
   "metadata": {},
   "outputs": [
    {
     "name": "stdout",
     "output_type": "stream",
     "text": [
      "   Volvo  Tesla  Ford\n",
      "0      1      2     3\n",
      "1      4      6     0\n",
      "2      0      2     0\n",
      "3      0      3     1\n",
      "4      0      0     6\n",
      "5     11      4    12\n",
      "6     12      7     5\n"
     ]
    }
   ],
   "source": [
    "carsales2 = pd.DataFrame(list(zip(volvo, tesla, ford)), columns=[\"Volvo\", \"Tesla\", \"Ford\"])\n",
    "print(carsales2)"
   ]
  },
  {
   "cell_type": "markdown",
   "id": "8143e94c-a2c6-4062-9ff0-da03cf2b7a61",
   "metadata": {},
   "source": [
    "The `zip()` function creates a tuple for every position in the lists `(volvo[0], ford[0], tesla[0]), (volvo[1], ford[1], tesla[1])`\n",
    "Since `zip()` returns a \"lazy\", or **single-use iterator**, we need to wrap it in `list()` so that Pandas can iterate over it as many times as it needs for the DataFrame creation. \n"
   ]
  },
  {
   "cell_type": "markdown",
   "id": "0226739d-eabe-4cb0-9829-b8db9c53147a",
   "metadata": {},
   "source": [
    "### Currently, the Dictionary with list data presents the least work avenue to create DataFrames without using transpose functions."
   ]
  },
  {
   "cell_type": "markdown",
   "id": "0a2eac58-fc90-43f6-9a77-bc20e20defc8",
   "metadata": {},
   "source": [
    "### Export DataFrame to CSV and XSLX"
   ]
  },
  {
   "cell_type": "code",
   "execution_count": 12,
   "id": "af1ff4f2-31e4-43fc-b3c7-9f1c0bd1bc1a",
   "metadata": {},
   "outputs": [],
   "source": [
    "carsales.to_csv(\"carsales.csv\")\n",
    "carsales.to_excel(\"carsales.xlsx\")"
   ]
  },
  {
   "cell_type": "markdown",
   "id": "34940e2b-1296-40a8-80a4-f9ccb800dfc3",
   "metadata": {},
   "source": [
    "### Delete a DataFrame"
   ]
  },
  {
   "cell_type": "code",
   "execution_count": 14,
   "id": "966efa45-b2c4-43c9-b6aa-5c1207118925",
   "metadata": {},
   "outputs": [],
   "source": [
    "del(carsales)"
   ]
  },
  {
   "cell_type": "code",
   "execution_count": null,
   "id": "a9a78003-b3ea-4442-b909-f5750e0b2d9b",
   "metadata": {},
   "outputs": [],
   "source": []
  }
 ],
 "metadata": {
  "kernelspec": {
   "display_name": "anaconda-ai-2024.04-py310",
   "language": "python",
   "name": "conda-env-anaconda-ai-2024.04-py310-py"
  },
  "language_info": {
   "codemirror_mode": {
    "name": "ipython",
    "version": 3
   },
   "file_extension": ".py",
   "mimetype": "text/x-python",
   "name": "python",
   "nbconvert_exporter": "python",
   "pygments_lexer": "ipython3",
   "version": "3.10.13"
  }
 },
 "nbformat": 4,
 "nbformat_minor": 5
}
