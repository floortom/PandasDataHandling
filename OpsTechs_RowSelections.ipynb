{
 "cells": [
  {
   "cell_type": "code",
   "execution_count": 1,
   "id": "26cfd52d-6d4d-47c0-906c-ddc6cdc1bded",
   "metadata": {},
   "outputs": [
    {
     "name": "stdout",
     "output_type": "stream",
     "text": [
      "             Mercedes  Ford  Tata  Renault\n",
      "Sales place                               \n",
      "One                 2     3     9       12\n",
      "Two                 4     0     3        1\n",
      "Three               0     0     4        0\n",
      "Four                4     1     1        0\n",
      "Five                0     6     0        3\n",
      "Six                 3    12     0        1\n"
     ]
    }
   ],
   "source": [
    "import pandas as pd\n",
    "\n",
    "cardata = { \"Mercedes\": [2, 4, 0, 4, 0, 3], \"Ford\": [3, 0, 0, 1, 6, 12], \"Tata\":[9, 3, 4, 1, 0, 0], \"Renault\":[12, 1, 0, 0, 3, 1]}\n",
    "carsales = pd.DataFrame(cardata)\n",
    "carsales.index.rename(\"Sales place\", inplace=True)\n",
    "carsales.rename(index={0: \"One\", 1: \"Two\", 2: \"Three\", 3: \"Four\", 4: \"Five\", 5: \"Six\"}, inplace=True)\n",
    "\n",
    "print(carsales)"
   ]
  },
  {
   "cell_type": "markdown",
   "id": "af726b72-521f-4f59-bc82-47eb910f8210",
   "metadata": {},
   "source": [
    "# `DataFrame.loc[row, column]`"
   ]
  },
  {
   "cell_type": "markdown",
   "id": "e7f52690-8380-4e0f-8190-da0c74c264f8",
   "metadata": {},
   "source": [
    "# Select a single row -> *Series*"
   ]
  },
  {
   "cell_type": "code",
   "execution_count": 2,
   "id": "9863dfc4-0f99-47a5-b495-04c85d503dd5",
   "metadata": {},
   "outputs": [
    {
     "name": "stdout",
     "output_type": "stream",
     "text": [
      "Mercedes    0\n",
      "Ford        0\n",
      "Tata        4\n",
      "Renault     0\n",
      "Name: Three, dtype: int64\n"
     ]
    }
   ],
   "source": [
    "print(carsales.loc[\"Three\"])"
   ]
  },
  {
   "cell_type": "markdown",
   "id": "e0df9b40-f2db-4c55-87f4-ae4f38bd0847",
   "metadata": {},
   "source": [
    "## Select rows between (and including) specified labels -> *DataFrame*"
   ]
  },
  {
   "cell_type": "code",
   "execution_count": 4,
   "id": "ac72a384-746e-406f-b44f-9060f9afb4e5",
   "metadata": {},
   "outputs": [
    {
     "name": "stdout",
     "output_type": "stream",
     "text": [
      "             Mercedes  Ford  Tata  Renault\n",
      "Sales place                               \n",
      "Two                 4     0     3        1\n",
      "Three               0     0     4        0\n",
      "Four                4     1     1        0\n"
     ]
    }
   ],
   "source": [
    "print(carsales.loc[\"Two\":\"Four\"])"
   ]
  },
  {
   "cell_type": "markdown",
   "id": "374f8cc9-ab3a-478c-90da-38f04f2e30b5",
   "metadata": {},
   "source": [
    "## Slicing"
   ]
  },
  {
   "cell_type": "markdown",
   "id": "9d127b3f-46c0-4601-ac06-81abf499a801",
   "metadata": {},
   "source": [
    "### Select \"Three\" to the last"
   ]
  },
  {
   "cell_type": "code",
   "execution_count": 9,
   "id": "e9ea8826-efa1-4471-b583-1598ea8f257f",
   "metadata": {},
   "outputs": [
    {
     "name": "stdout",
     "output_type": "stream",
     "text": [
      "             Mercedes  Ford  Tata  Renault\n",
      "Sales place                               \n",
      "Three               0     0     4        0\n",
      "Four                4     1     1        0\n",
      "Five                0     6     0        3\n",
      "Six                 3    12     0        1\n"
     ]
    }
   ],
   "source": [
    "print(carsales.loc[\"Three\":])"
   ]
  },
  {
   "cell_type": "markdown",
   "id": "3e2e9f82-656d-442e-b1bc-7e2eaeff02a2",
   "metadata": {},
   "source": [
    "# `DataFrame.iloc[row, column]`"
   ]
  },
  {
   "cell_type": "markdown",
   "id": "7522cc06-b046-4c5a-849e-e6cc006f863b",
   "metadata": {},
   "source": [
    "## Select a single row -> *Series*"
   ]
  },
  {
   "cell_type": "code",
   "execution_count": 3,
   "id": "725fc92c-f660-4add-995c-0663fe4255bb",
   "metadata": {},
   "outputs": [
    {
     "name": "stdout",
     "output_type": "stream",
     "text": [
      "Mercedes    4\n",
      "Ford        1\n",
      "Tata        1\n",
      "Renault     0\n",
      "Name: Four, dtype: int64\n"
     ]
    }
   ],
   "source": [
    "print(carsales.iloc[3])"
   ]
  },
  {
   "cell_type": "markdown",
   "id": "79af6c09-7f12-43f1-973c-d218fc0d994c",
   "metadata": {},
   "source": [
    "## Select rows with slicing -> *DataFrame*"
   ]
  },
  {
   "cell_type": "code",
   "execution_count": 5,
   "id": "d3c9a831-96f1-49c9-b7a0-437d553b84e7",
   "metadata": {},
   "outputs": [
    {
     "name": "stdout",
     "output_type": "stream",
     "text": [
      "             Mercedes  Ford  Tata  Renault\n",
      "Sales place                               \n",
      "Three               0     0     4        0\n",
      "Four                4     1     1        0\n"
     ]
    }
   ],
   "source": [
    "print(carsales.iloc[2:4])"
   ]
  },
  {
   "cell_type": "code",
   "execution_count": 6,
   "id": "f5212ad4-ec05-480c-bec4-b95adb091e4e",
   "metadata": {},
   "outputs": [
    {
     "name": "stdout",
     "output_type": "stream",
     "text": [
      "             Mercedes  Ford  Tata  Renault\n",
      "Sales place                               \n",
      "Two                 4     0     3        1\n",
      "Three               0     0     4        0\n",
      "Four                4     1     1        0\n"
     ]
    }
   ],
   "source": [
    "print(carsales.iloc[1:4])"
   ]
  },
  {
   "cell_type": "code",
   "execution_count": 7,
   "id": "7b4bb295-584b-415c-bba5-28600d31c9b6",
   "metadata": {},
   "outputs": [
    {
     "name": "stdout",
     "output_type": "stream",
     "text": [
      "             Mercedes  Ford  Tata  Renault\n",
      "Sales place                               \n",
      "One                 2     3     9       12\n",
      "Two                 4     0     3        1\n",
      "Three               0     0     4        0\n",
      "Four                4     1     1        0\n"
     ]
    }
   ],
   "source": [
    "print(carsales.iloc[:4])"
   ]
  },
  {
   "cell_type": "code",
   "execution_count": 8,
   "id": "f71f25de-e21a-4868-aa1d-8e1d382ffb74",
   "metadata": {},
   "outputs": [
    {
     "name": "stdout",
     "output_type": "stream",
     "text": [
      "             Mercedes  Ford  Tata  Renault\n",
      "Sales place                               \n",
      "Five                0     6     0        3\n",
      "Six                 3    12     0        1\n"
     ]
    }
   ],
   "source": [
    "print(carsales.iloc[4:])"
   ]
  },
  {
   "cell_type": "markdown",
   "id": "b698671c-7219-4cfb-9a8a-525012c0ea67",
   "metadata": {},
   "source": [
    "### Select every second row"
   ]
  },
  {
   "cell_type": "code",
   "execution_count": 10,
   "id": "e89df9b3-d3b6-4e31-81ce-39fc23fc9b5b",
   "metadata": {},
   "outputs": [
    {
     "name": "stdout",
     "output_type": "stream",
     "text": [
      "             Mercedes  Ford  Tata  Renault\n",
      "Sales place                               \n",
      "One                 2     3     9       12\n",
      "Three               0     0     4        0\n",
      "Five                0     6     0        3\n"
     ]
    }
   ],
   "source": [
    "print(carsales.iloc[::2])"
   ]
  },
  {
   "cell_type": "markdown",
   "id": "521a63bd-31cd-4a8b-b85e-f68dc9d5936b",
   "metadata": {},
   "source": [
    "### Sort the rows backwards"
   ]
  },
  {
   "cell_type": "code",
   "execution_count": 11,
   "id": "15132b00-40f1-4fca-b62e-3515bf6a6cc9",
   "metadata": {},
   "outputs": [
    {
     "name": "stdout",
     "output_type": "stream",
     "text": [
      "             Mercedes  Ford  Tata  Renault\n",
      "Sales place                               \n",
      "Six                 3    12     0        1\n",
      "Five                0     6     0        3\n",
      "Four                4     1     1        0\n",
      "Three               0     0     4        0\n",
      "Two                 4     0     3        1\n",
      "One                 2     3     9       12\n"
     ]
    }
   ],
   "source": [
    "print(carsales.iloc[::-1])"
   ]
  },
  {
   "cell_type": "code",
   "execution_count": null,
   "id": "229af23b-32a6-4432-91a6-a2e4ee6de2b2",
   "metadata": {},
   "outputs": [],
   "source": []
  }
 ],
 "metadata": {
  "kernelspec": {
   "display_name": "anaconda-ai-2024.04-py310",
   "language": "python",
   "name": "conda-env-anaconda-ai-2024.04-py310-py"
  },
  "language_info": {
   "codemirror_mode": {
    "name": "ipython",
    "version": 3
   },
   "file_extension": ".py",
   "mimetype": "text/x-python",
   "name": "python",
   "nbconvert_exporter": "python",
   "pygments_lexer": "ipython3",
   "version": "3.10.13"
  }
 },
 "nbformat": 4,
 "nbformat_minor": 5
}
