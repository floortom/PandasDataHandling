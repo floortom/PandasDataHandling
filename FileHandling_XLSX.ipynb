{
 "cells": [
  {
   "cell_type": "code",
   "execution_count": 1,
   "id": "1c87f19b-9b1d-4891-911c-b7200006c095",
   "metadata": {},
   "outputs": [],
   "source": [
    "import pandas as pd"
   ]
  },
  {
   "cell_type": "markdown",
   "id": "7ab9adcb-a4b2-4a2a-ae73-4d89779e36e4",
   "metadata": {},
   "source": [
    "# Read the carsales XLSX to a Pandas DataFrame"
   ]
  },
  {
   "cell_type": "code",
   "execution_count": 3,
   "id": "c8e57892-f574-41ea-b425-242a8072c9bd",
   "metadata": {},
   "outputs": [
    {
     "name": "stdout",
     "output_type": "stream",
     "text": [
      "  Unnamed: 0  Tesla  Mercedes  Ford  Tata  Renault  Volvo\n",
      "0        One      2         2     3     9       12      1\n",
      "1        Two      6         4     0     3        1      4\n",
      "2      Three      2         0     0     4        0      0\n",
      "3       Four      3         4     1     1        0      0\n",
      "4       Five      0         0     6     0        3      0\n",
      "5        Six      4         3    12     0        1     11\n",
      "6      Seven      7         3     5     1        1     12\n"
     ]
    }
   ],
   "source": [
    "carsales = pd.read_excel(\"carsales.xlsx\")\n",
    "print(carsales)"
   ]
  },
  {
   "cell_type": "markdown",
   "id": "cdc6de04-68ca-4c6a-9cf1-9dbcb5df48d2",
   "metadata": {},
   "source": [
    "The *index* column is read as an ordinary column. We do not want that."
   ]
  },
  {
   "cell_type": "code",
   "execution_count": 4,
   "id": "6502e078-7269-43a5-b476-907929b42c93",
   "metadata": {},
   "outputs": [],
   "source": [
    "del carsales"
   ]
  },
  {
   "cell_type": "markdown",
   "id": "7e4bf6a5-c8de-4d12-b875-ddccc09607c3",
   "metadata": {},
   "source": [
    "## Read the XLSX and restore the *index* column"
   ]
  },
  {
   "cell_type": "markdown",
   "id": "37ca6af4-465b-44de-9ebc-4067cdf45556",
   "metadata": {},
   "source": [
    "Restore the index labels and name the *index* column "
   ]
  },
  {
   "cell_type": "code",
   "execution_count": 8,
   "id": "2397ad79-237f-4e30-8e2c-d880ec3654d4",
   "metadata": {},
   "outputs": [
    {
     "name": "stdout",
     "output_type": "stream",
     "text": [
      "             Tesla  Mercedes  Ford  Tata  Renault  Volvo\n",
      "Sales place                                             \n",
      "One              2         2     3     9       12      1\n",
      "Two              6         4     0     3        1      4\n",
      "Three            2         0     0     4        0      0\n",
      "Four             3         4     1     1        0      0\n",
      "Five             0         0     6     0        3      0\n",
      "Six              4         3    12     0        1     11\n",
      "Seven            7         3     5     1        1     12\n"
     ]
    }
   ],
   "source": [
    "carsales = pd.read_excel(\"carsales.xlsx\", index_col=0)\n",
    "carsales.index.rename(\"Sales place\", inplace=True)\n",
    "print(carsales)"
   ]
  },
  {
   "cell_type": "markdown",
   "id": "6b907ab6-026b-428c-9fc8-c7c3fba6dd62",
   "metadata": {},
   "source": [
    "# Write every column into its own spreadsheet"
   ]
  },
  {
   "cell_type": "markdown",
   "id": "9bee57cb-97c9-403e-9842-6f693a654e52",
   "metadata": {},
   "source": [
    "This is just the simple way of creating a workbook with many spreadsheets."
   ]
  },
  {
   "cell_type": "code",
   "execution_count": 9,
   "id": "e108b666-6504-4be3-8e67-1081825f503b",
   "metadata": {},
   "outputs": [],
   "source": [
    "with pd.ExcelWriter(\"carsales2.xlsx\") as writer:\n",
    "    for column in carsales.columns:\n",
    "        carsales[column].to_excel(writer, sheet_name=column)"
   ]
  },
  {
   "cell_type": "markdown",
   "id": "cbfa8d03-0e48-480c-ac8d-f11c3ceeabdc",
   "metadata": {},
   "source": [
    "# Read the spreadsheets back to the DataFrame set"
   ]
  },
  {
   "cell_type": "code",
   "execution_count": 10,
   "id": "f755f953-6c7a-4697-b67b-9ae64a910541",
   "metadata": {},
   "outputs": [
    {
     "name": "stdout",
     "output_type": "stream",
     "text": [
      "{'Mercedes':              Mercedes\n",
      "Sales place          \n",
      "One                 2\n",
      "Two                 4\n",
      "Three               0\n",
      "Four                4\n",
      "Five                0\n",
      "Six                 3\n",
      "Seven               3, 'Ford':              Ford\n",
      "Sales place      \n",
      "One             3\n",
      "Two             0\n",
      "Three           0\n",
      "Four            1\n",
      "Five            6\n",
      "Six            12\n",
      "Seven           5, 'Tata':              Tata\n",
      "Sales place      \n",
      "One             9\n",
      "Two             3\n",
      "Three           4\n",
      "Four            1\n",
      "Five            0\n",
      "Six             0\n",
      "Seven           1, 'Renault':              Renault\n",
      "Sales place         \n",
      "One               12\n",
      "Two                1\n",
      "Three              0\n",
      "Four               0\n",
      "Five               3\n",
      "Six                1\n",
      "Seven              1}\n"
     ]
    }
   ],
   "source": [
    "carsales2 = pd.read_excel(\"carsales2.xlsx\", index_col=0, sheet_name=[\"Mercedes\", \"Ford\", \"Tata\", \"Renault\"])\n",
    "print(carsales2)"
   ]
  },
  {
   "cell_type": "markdown",
   "id": "5ab2d64d-8677-4c3b-be9c-a99228a43fa9",
   "metadata": {},
   "source": [
    "## Reconstruct the spreadsheet into a DataFrame "
   ]
  },
  {
   "cell_type": "markdown",
   "id": "ba38969f-906d-4c20-b056-52ee02fa48fa",
   "metadata": {},
   "source": [
    "with Pandas' `concat()` used on a *column* basis (`index=1`) instead of *row* basis (`index=0`) (default mode)"
   ]
  },
  {
   "cell_type": "code",
   "execution_count": 11,
   "id": "24b32edc-8cc7-4c9b-8836-c9d6be8a0f5b",
   "metadata": {},
   "outputs": [
    {
     "name": "stdout",
     "output_type": "stream",
     "text": [
      "             Mercedes  Ford  Tata  Renault\n",
      "Sales place                               \n",
      "One                 2     3     9       12\n",
      "Two                 4     0     3        1\n",
      "Three               0     0     4        0\n",
      "Four                4     1     1        0\n",
      "Five                0     6     0        3\n",
      "Six                 3    12     0        1\n",
      "Seven               3     5     1        1\n"
     ]
    }
   ],
   "source": [
    "carsales3 = pd.DataFrame()\n",
    "for dict in carsales2.values():\n",
    "    carsales3 = pd.concat([carsales3, pd.DataFrame.from_dict(dict)], axis=1)\n",
    "print(carsales3)"
   ]
  },
  {
   "cell_type": "code",
   "execution_count": null,
   "id": "c05e06c6-056f-4ef8-85c1-15e693ff9acc",
   "metadata": {},
   "outputs": [],
   "source": []
  }
 ],
 "metadata": {
  "kernelspec": {
   "display_name": "anaconda-ai-2024.04-py310",
   "language": "python",
   "name": "conda-env-anaconda-ai-2024.04-py310-py"
  },
  "language_info": {
   "codemirror_mode": {
    "name": "ipython",
    "version": 3
   },
   "file_extension": ".py",
   "mimetype": "text/x-python",
   "name": "python",
   "nbconvert_exporter": "python",
   "pygments_lexer": "ipython3",
   "version": "3.10.13"
  }
 },
 "nbformat": 4,
 "nbformat_minor": 5
}
