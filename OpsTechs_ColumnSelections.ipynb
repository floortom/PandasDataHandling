{
 "cells": [
  {
   "cell_type": "markdown",
   "id": "6f470a7e-ad9e-48a3-8b0f-06199a8f7847",
   "metadata": {},
   "source": [
    "**Column or variable selection is about selecting a subset of a DataFrame** or a number *n* of columns from a total number of *N* columns.<br>\n",
    "- The word *\"column\"* refers to a Pandas DataFrame's column and the word *\"variable\"* refers to the mathematical abstraction that the DataFrame column with contents represents.\n",
    "- The word *\"selection\"* usually means to create a subset view of a DataFrame, whereas *\"extraction\"* usually refers to creating a subset copy of a DataFrame."
   ]
  },
  {
   "cell_type": "code",
   "execution_count": 1,
   "id": "b3c4abd1-8283-40cd-b65e-14636826bc46",
   "metadata": {},
   "outputs": [
    {
     "name": "stdout",
     "output_type": "stream",
     "text": [
      "             Mercedes  Ford  Tata  Renault\n",
      "Sales place                               \n",
      "One                 2     3     9       12\n",
      "Two                 4     0     3        1\n",
      "Three               0     0     4        0\n",
      "Four                4     1     1        0\n",
      "Five                0     6     0        3\n",
      "Six                 3    12     0        1\n"
     ]
    }
   ],
   "source": [
    "import pandas as pd\n",
    "\n",
    "cardata = { \"Mercedes\": [2, 4, 0, 4, 0, 3], \"Ford\": [3, 0, 0, 1, 6, 12], \"Tata\":[9, 3, 4, 1, 0, 0], \"Renault\":[12, 1, 0, 0, 3, 1]}\n",
    "carsales = pd.DataFrame(cardata)\n",
    "carsales.index.rename(\"Sales place\", inplace=True)\n",
    "carsales.rename(index={0: \"One\", 1: \"Two\", 2: \"Three\", 3: \"Four\", 4: \"Five\", 5: \"Six\"}, inplace=True)\n",
    "\n",
    "print(carsales)"
   ]
  },
  {
   "cell_type": "markdown",
   "id": "3c41e764-e42d-44e1-9422-dfe936c69956",
   "metadata": {},
   "source": [
    "# Select a named, single column"
   ]
  },
  {
   "cell_type": "markdown",
   "id": "26e03b68-1536-42d0-9c5a-1b7caa7fb876",
   "metadata": {},
   "source": [
    "- as a Pandas Series object"
   ]
  },
  {
   "cell_type": "code",
   "execution_count": 2,
   "id": "e30ed379-1c14-43f1-935c-80ef9934efec",
   "metadata": {},
   "outputs": [
    {
     "name": "stdout",
     "output_type": "stream",
     "text": [
      "Sales place\n",
      "One      9\n",
      "Two      3\n",
      "Three    4\n",
      "Four     1\n",
      "Five     0\n",
      "Six      0\n",
      "Name: Tata, dtype: int64\n"
     ]
    }
   ],
   "source": [
    "print(carsales[\"Tata\"])"
   ]
  },
  {
   "cell_type": "markdown",
   "id": "1bc44c13-1d59-4350-865d-e1511263b591",
   "metadata": {},
   "source": [
    "- as a Pandas DataFrame"
   ]
  },
  {
   "cell_type": "code",
   "execution_count": 3,
   "id": "326c75c3-d60a-4c39-ae27-b7e55279bc09",
   "metadata": {},
   "outputs": [
    {
     "name": "stdout",
     "output_type": "stream",
     "text": [
      "             Ford\n",
      "Sales place      \n",
      "One             3\n",
      "Two             0\n",
      "Three           0\n",
      "Four            1\n",
      "Five            6\n",
      "Six            12\n"
     ]
    }
   ],
   "source": [
    "print(carsales[[\"Ford\"]])"
   ]
  },
  {
   "cell_type": "markdown",
   "id": "cd251d36-070a-4ffa-b656-ac2ab4afe86c",
   "metadata": {},
   "source": [
    "# Select multiple columns"
   ]
  },
  {
   "cell_type": "code",
   "execution_count": 4,
   "id": "d3b40cc7-4eef-47cf-969a-2cfad03988fc",
   "metadata": {},
   "outputs": [
    {
     "name": "stdout",
     "output_type": "stream",
     "text": [
      "             Ford  Mercedes  Renault\n",
      "Sales place                         \n",
      "One             3         2       12\n",
      "Two             0         4        1\n",
      "Three           0         0        0\n",
      "Four            1         4        0\n",
      "Five            6         0        3\n",
      "Six            12         3        1\n"
     ]
    }
   ],
   "source": [
    "print(carsales[[\"Ford\", \"Mercedes\", \"Renault\"]])"
   ]
  },
  {
   "cell_type": "markdown",
   "id": "86d56304-aa86-4724-84ca-da81a8284f1f",
   "metadata": {},
   "source": [
    "# Make selections with `iloc()`"
   ]
  },
  {
   "cell_type": "markdown",
   "id": "5bd54385-e643-4fdd-a44a-5aca700e7002",
   "metadata": {},
   "source": [
    "- Select column 1, return as DataFrame"
   ]
  },
  {
   "cell_type": "code",
   "execution_count": 6,
   "id": "a89c9140-68e2-48b5-af02-07cdb44cb41d",
   "metadata": {},
   "outputs": [
    {
     "name": "stdout",
     "output_type": "stream",
     "text": [
      "             Ford\n",
      "Sales place      \n",
      "One             3\n",
      "Two             0\n",
      "Three           0\n",
      "Four            1\n",
      "Five            6\n",
      "Six            12\n"
     ]
    }
   ],
   "source": [
    "print(carsales.iloc[:, [1]])"
   ]
  },
  {
   "cell_type": "markdown",
   "id": "23573246-29ed-4f4a-b1ac-c140b6614c41",
   "metadata": {},
   "source": [
    "- Select columns 1 and 2"
   ]
  },
  {
   "cell_type": "code",
   "execution_count": 7,
   "id": "9732d525-bd5e-46c7-ac7f-b4964b250891",
   "metadata": {},
   "outputs": [
    {
     "name": "stdout",
     "output_type": "stream",
     "text": [
      "             Ford  Tata\n",
      "Sales place            \n",
      "One             3     9\n",
      "Two             0     3\n",
      "Three           0     4\n",
      "Four            1     1\n",
      "Five            6     0\n",
      "Six            12     0\n"
     ]
    }
   ],
   "source": [
    "print(carsales.iloc[:, [1, 2]])"
   ]
  },
  {
   "cell_type": "markdown",
   "id": "4108f6b1-f0f9-41ee-b041-fd1d14d1efe7",
   "metadata": {},
   "source": [
    "- Select columns 1 to 3"
   ]
  },
  {
   "cell_type": "code",
   "execution_count": 9,
   "id": "fcb4bd04-ebc5-4fc7-872a-5273af830512",
   "metadata": {},
   "outputs": [
    {
     "name": "stdout",
     "output_type": "stream",
     "text": [
      "             Mercedes  Ford  Tata\n",
      "Sales place                      \n",
      "One                 2     3     9\n",
      "Two                 4     0     3\n",
      "Three               0     0     4\n",
      "Four                4     1     1\n",
      "Five                0     6     0\n",
      "Six                 3    12     0\n"
     ]
    }
   ],
   "source": [
    "print(carsales.iloc[:, 0:3])"
   ]
  },
  {
   "cell_type": "markdown",
   "id": "3cf36ee8-a0d5-447b-afed-d23d477117cc",
   "metadata": {},
   "source": [
    "- Select the last column"
   ]
  },
  {
   "cell_type": "code",
   "execution_count": 14,
   "id": "d0908179-e2a6-4b8c-9555-bf067dbf0551",
   "metadata": {},
   "outputs": [
    {
     "name": "stdout",
     "output_type": "stream",
     "text": [
      "             Renault\n",
      "Sales place         \n",
      "One               12\n",
      "Two                1\n",
      "Three              0\n",
      "Four               0\n",
      "Five               3\n",
      "Six                1\n"
     ]
    }
   ],
   "source": [
    "print(carsales.iloc[:, -1:])"
   ]
  },
  {
   "cell_type": "markdown",
   "id": "c15b229a-e4e7-43ed-b544-08747184b146",
   "metadata": {},
   "source": [
    "# Make selections using `loc()`"
   ]
  },
  {
   "cell_type": "markdown",
   "id": "6842ef35-b8c9-46f7-ab13-1d50f570697b",
   "metadata": {},
   "source": [
    "- Select the Ford column"
   ]
  },
  {
   "cell_type": "code",
   "execution_count": 12,
   "id": "5a963217-3ff9-4c69-a3d2-86101e380a05",
   "metadata": {},
   "outputs": [
    {
     "name": "stdout",
     "output_type": "stream",
     "text": [
      "             Ford\n",
      "Sales place      \n",
      "One             3\n",
      "Two             0\n",
      "Three           0\n",
      "Four            1\n",
      "Five            6\n",
      "Six            12\n"
     ]
    }
   ],
   "source": [
    "print(carsales.loc[:, [\"Ford\"]])"
   ]
  },
  {
   "cell_type": "markdown",
   "id": "79f786df-89fc-4e9c-bd8f-36c41eae872f",
   "metadata": {},
   "source": [
    "- Select Tata and Mercedes"
   ]
  },
  {
   "cell_type": "code",
   "execution_count": 13,
   "id": "c12f5043-fbc4-45f2-a598-b188eb8e7529",
   "metadata": {},
   "outputs": [
    {
     "name": "stdout",
     "output_type": "stream",
     "text": [
      "             Tata  Mercedes\n",
      "Sales place                \n",
      "One             9         2\n",
      "Two             3         4\n",
      "Three           4         0\n",
      "Four            1         4\n",
      "Five            0         0\n",
      "Six             0         3\n"
     ]
    }
   ],
   "source": [
    "print(carsales.loc[:, [\"Tata\", \"Mercedes\"]])"
   ]
  },
  {
   "cell_type": "code",
   "execution_count": null,
   "id": "0a3cd9b5-7440-4cc3-89c5-1cce2fda050d",
   "metadata": {},
   "outputs": [],
   "source": []
  }
 ],
 "metadata": {
  "kernelspec": {
   "display_name": "anaconda-ai-2024.04-py310",
   "language": "python",
   "name": "conda-env-anaconda-ai-2024.04-py310-py"
  },
  "language_info": {
   "codemirror_mode": {
    "name": "ipython",
    "version": 3
   },
   "file_extension": ".py",
   "mimetype": "text/x-python",
   "name": "python",
   "nbconvert_exporter": "python",
   "pygments_lexer": "ipython3",
   "version": "3.10.13"
  }
 },
 "nbformat": 4,
 "nbformat_minor": 5
}
