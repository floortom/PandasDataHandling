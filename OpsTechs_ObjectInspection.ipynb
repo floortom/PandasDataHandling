{
 "cells": [
  {
   "cell_type": "code",
   "execution_count": 1,
   "id": "d118649e-b6f9-43c3-9081-2233dca9b9a1",
   "metadata": {},
   "outputs": [
    {
     "name": "stdout",
     "output_type": "stream",
     "text": [
      "             Mercedes  Ford  Tata  Renault\n",
      "Sales place                               \n",
      "One                 2     3     9       12\n",
      "Two                 4     0     3        1\n",
      "Three               0     0     4        0\n",
      "Four                4     1     1        0\n",
      "Five                0     6     0        3\n",
      "Six                 3    12     0        1\n"
     ]
    }
   ],
   "source": [
    "import pandas as pd\n",
    "\n",
    "cardata = { \"Mercedes\": [2, 4, 0, 4, 0, 3], \"Ford\": [3, 0, 0, 1, 6, 12], \"Tata\":[9, 3, 4, 1, 0, 0], \"Renault\":[12, 1, 0, 0, 3, 1]}\n",
    "carsales = pd.DataFrame(cardata)\n",
    "carsales.index.rename(\"Sales place\", inplace=True)\n",
    "carsales.rename(index={0: \"One\", 1: \"Two\", 2: \"Three\", 3: \"Four\", 4: \"Five\", 5: \"Six\"}, inplace=True)\n",
    "\n",
    "print(carsales)"
   ]
  },
  {
   "cell_type": "markdown",
   "id": "d6fc2511-dc50-4382-a402-0b3cda549c3c",
   "metadata": {},
   "source": [
    "# The `info()` function"
   ]
  },
  {
   "cell_type": "markdown",
   "id": "8fd5a0a3-94a4-4d47-b906-bdc098c84bdf",
   "metadata": {},
   "source": [
    "## Get *DataFrame* info"
   ]
  },
  {
   "cell_type": "code",
   "execution_count": 2,
   "id": "7c72ee64-1c2f-42b5-b480-446d85e26138",
   "metadata": {},
   "outputs": [
    {
     "name": "stdout",
     "output_type": "stream",
     "text": [
      "<class 'pandas.core.frame.DataFrame'>\n",
      "Index: 6 entries, One to Six\n",
      "Data columns (total 4 columns):\n",
      " #   Column    Non-Null Count  Dtype\n",
      "---  ------    --------------  -----\n",
      " 0   Mercedes  6 non-null      int64\n",
      " 1   Ford      6 non-null      int64\n",
      " 2   Tata      6 non-null      int64\n",
      " 3   Renault   6 non-null      int64\n",
      "dtypes: int64(4)\n",
      "memory usage: 240.0+ bytes\n",
      "None\n"
     ]
    }
   ],
   "source": [
    "print(carsales.info())"
   ]
  },
  {
   "cell_type": "markdown",
   "id": "4b5ae3cf-ca38-4efa-a4d7-095d3e53c03c",
   "metadata": {},
   "source": [
    "## Get *Series* object info"
   ]
  },
  {
   "cell_type": "code",
   "execution_count": 3,
   "id": "119b54cd-40e9-4b0b-a728-8c1fba7e5ad0",
   "metadata": {},
   "outputs": [
    {
     "name": "stdout",
     "output_type": "stream",
     "text": [
      "<class 'pandas.core.series.Series'>\n",
      "Index: 6 entries, One to Six\n",
      "Series name: Tata\n",
      "Non-Null Count  Dtype\n",
      "--------------  -----\n",
      "6 non-null      int64\n",
      "dtypes: int64(1)\n",
      "memory usage: 96.0+ bytes\n",
      "None\n"
     ]
    }
   ],
   "source": [
    "print(carsales[\"Tata\"].info())"
   ]
  },
  {
   "cell_type": "markdown",
   "id": "3376ddd9-0717-4c18-a620-d9ae0886219e",
   "metadata": {},
   "source": [
    "We can get a *DataFrame* info out of the required *Series* from an existing DataFrame."
   ]
  },
  {
   "cell_type": "code",
   "execution_count": 4,
   "id": "9187e9f0-80b2-45b0-af63-0cbe1064bf60",
   "metadata": {},
   "outputs": [
    {
     "name": "stdout",
     "output_type": "stream",
     "text": [
      "<class 'pandas.core.frame.DataFrame'>\n",
      "Index: 6 entries, One to Six\n",
      "Data columns (total 2 columns):\n",
      " #   Column  Non-Null Count  Dtype\n",
      "---  ------  --------------  -----\n",
      " 0   Tata    6 non-null      int64\n",
      " 1   Ford    6 non-null      int64\n",
      "dtypes: int64(2)\n",
      "memory usage: 144.0+ bytes\n",
      "None\n"
     ]
    }
   ],
   "source": [
    "print(carsales[[\"Tata\", \"Ford\"]].info())"
   ]
  },
  {
   "cell_type": "markdown",
   "id": "2ecdd74e-2d2f-47e2-9d13-b9aeec593065",
   "metadata": {},
   "source": [
    "# The `type()` function"
   ]
  },
  {
   "cell_type": "code",
   "execution_count": 8,
   "id": "3a7c240a-2258-4709-8925-53cc45cfb408",
   "metadata": {},
   "outputs": [
    {
     "name": "stdout",
     "output_type": "stream",
     "text": [
      "0\n",
      "<class 'numpy.int64'>\n"
     ]
    }
   ],
   "source": [
    "print(carsales.loc[\"Two\", \"Ford\"])\n",
    "print(type(carsales.loc[\"Two\", \"Ford\"]))"
   ]
  },
  {
   "cell_type": "markdown",
   "id": "0168bae7-a002-47cc-a7fe-f4cea02b5ed9",
   "metadata": {},
   "source": [
    "Pandas converts all python *int* to numpy *int64*, because they are faster for calculations, amongst others"
   ]
  },
  {
   "cell_type": "code",
   "execution_count": 9,
   "id": "33f34d8e-5960-439a-ad2a-e917af06ddd3",
   "metadata": {},
   "outputs": [
    {
     "name": "stdout",
     "output_type": "stream",
     "text": [
      "4\n",
      "<class 'numpy.int64'>\n"
     ]
    }
   ],
   "source": [
    "print(carsales.iloc[2, 2])\n",
    "print(type(carsales.iloc[2, 2]))"
   ]
  },
  {
   "cell_type": "markdown",
   "id": "3cba547b-c4f3-4302-acd2-819732473ff2",
   "metadata": {},
   "source": [
    "## The `DataFrame.dtypes` property"
   ]
  },
  {
   "cell_type": "code",
   "execution_count": 10,
   "id": "2bea9b13-10a4-45ba-b862-0baf247a265b",
   "metadata": {},
   "outputs": [
    {
     "name": "stdout",
     "output_type": "stream",
     "text": [
      "Mercedes    int64\n",
      "Ford        int64\n",
      "Tata        int64\n",
      "Renault     int64\n",
      "dtype: object\n"
     ]
    }
   ],
   "source": [
    "print(carsales.dtypes)"
   ]
  },
  {
   "cell_type": "markdown",
   "id": "fb6e457a-67ed-4393-aa74-877911648ed2",
   "metadata": {},
   "source": [
    "## Cast *int64* to Python's *int*"
   ]
  },
  {
   "cell_type": "code",
   "execution_count": 11,
   "id": "5c9a8c3f-beca-4c86-93e1-21f797c576b9",
   "metadata": {},
   "outputs": [
    {
     "name": "stdout",
     "output_type": "stream",
     "text": [
      "<class 'numpy.int64'>\n"
     ]
    }
   ],
   "source": [
    "y = carsales.loc[\"Two\", \"Ford\"]\n",
    "print(type(y))"
   ]
  },
  {
   "cell_type": "code",
   "execution_count": 12,
   "id": "3c073522-dd79-4052-a874-1f09bb1d3102",
   "metadata": {},
   "outputs": [
    {
     "name": "stdout",
     "output_type": "stream",
     "text": [
      "<class 'int'>\n"
     ]
    }
   ],
   "source": [
    "print(type(int(y)))"
   ]
  },
  {
   "cell_type": "markdown",
   "id": "30713934-36c6-4a0a-9bf4-60bee6ab825d",
   "metadata": {},
   "source": [
    "## Methods to get the data back to Python variables/objects"
   ]
  },
  {
   "cell_type": "markdown",
   "id": "5255b164-ae38-4ce6-b7b2-486f59c302cc",
   "metadata": {},
   "source": [
    "### Numpy's `tolist()`"
   ]
  },
  {
   "cell_type": "code",
   "execution_count": 17,
   "id": "8f5b54cb-8a53-4942-8ef0-8c6e22255ea2",
   "metadata": {},
   "outputs": [
    {
     "name": "stdout",
     "output_type": "stream",
     "text": [
      "<class 'numpy.uint32'>\n"
     ]
    }
   ],
   "source": [
    "import numpy as np\n",
    "a = np.uint32([1, 2])\n",
    "a_list = list(a)\n",
    "a_list\n",
    "print(type(a_list[0]))"
   ]
  },
  {
   "cell_type": "code",
   "execution_count": 16,
   "id": "e1b94ad7-eed0-4535-8f94-60d5a42e2481",
   "metadata": {},
   "outputs": [
    {
     "name": "stdout",
     "output_type": "stream",
     "text": [
      "<class 'int'>\n"
     ]
    }
   ],
   "source": [
    "a_tolist = a.tolist()\n",
    "a_tolist\n",
    "print(type(a_tolist[0]))"
   ]
  },
  {
   "cell_type": "code",
   "execution_count": 18,
   "id": "ad002290-3d99-4385-918e-7b147a95ddc5",
   "metadata": {},
   "outputs": [
    {
     "name": "stdout",
     "output_type": "stream",
     "text": [
      "0\n",
      "0\n",
      "<class 'int'>\n"
     ]
    }
   ],
   "source": [
    "z = carsales.loc[\"Two\", \"Ford\"]\n",
    "print(z)\n",
    "print(z.tolist())\n",
    "print(type(z.tolist()))"
   ]
  },
  {
   "cell_type": "markdown",
   "id": "3b721621-90bd-4852-9a18-29b906b5849f",
   "metadata": {},
   "source": [
    "### Pandas' `Series.to_list()`"
   ]
  },
  {
   "cell_type": "code",
   "execution_count": 22,
   "id": "f1a4565a-515c-4c8e-8e40-804b8018ca0b",
   "metadata": {},
   "outputs": [
    {
     "name": "stdout",
     "output_type": "stream",
     "text": [
      "[3, 0, 0, 1, 6, 12]\n",
      "<class 'int'>\n",
      "<class 'int'>\n",
      "<class 'int'>\n",
      "<class 'int'>\n",
      "<class 'int'>\n",
      "<class 'int'>\n"
     ]
    }
   ],
   "source": [
    "list = carsales.Ford.to_list()\n",
    "print(list)\n",
    "for i in list:\n",
    "    print(type(i))"
   ]
  },
  {
   "cell_type": "markdown",
   "id": "7760a1a9-3d7a-4c80-9b52-f4ac115b09b8",
   "metadata": {},
   "source": [
    "### Numpy's `ndarray.item()`"
   ]
  },
  {
   "cell_type": "code",
   "execution_count": 32,
   "id": "db65a354-d6c2-46fa-8bb6-19d97ce468f6",
   "metadata": {},
   "outputs": [
    {
     "name": "stdout",
     "output_type": "stream",
     "text": [
      "[[2 2 6]\n",
      " [1 3 6]\n",
      " [1 0 1]]\n",
      "1\n",
      "<class 'int'>\n",
      "0\n",
      "<class 'int'>\n",
      "2\n",
      "<class 'int'>\n",
      "1\n",
      "<class 'int'>\n"
     ]
    }
   ],
   "source": [
    "import numpy as np\n",
    "np.random.seed(123)\n",
    "x = np.random.randint(9, size=(3, 3))\n",
    "print(x)\n",
    "print(x.item(3))\n",
    "print(type(x.item(3)))\n",
    "print(x.item(7))\n",
    "print(type(x.item(7)))\n",
    "print(x.item((0, 1)))\n",
    "print(type(x.item((0, 1))))\n",
    "print(x.item((2, 2)))\n",
    "print(type(x.item((2, 2))))"
   ]
  },
  {
   "cell_type": "code",
   "execution_count": null,
   "id": "c49489db-8804-4d60-84e9-9100bfe558c5",
   "metadata": {},
   "outputs": [],
   "source": []
  }
 ],
 "metadata": {
  "kernelspec": {
   "display_name": "anaconda-ai-2024.04-py310",
   "language": "python",
   "name": "conda-env-anaconda-ai-2024.04-py310-py"
  },
  "language_info": {
   "codemirror_mode": {
    "name": "ipython",
    "version": 3
   },
   "file_extension": ".py",
   "mimetype": "text/x-python",
   "name": "python",
   "nbconvert_exporter": "python",
   "pygments_lexer": "ipython3",
   "version": "3.10.13"
  }
 },
 "nbformat": 4,
 "nbformat_minor": 5
}
